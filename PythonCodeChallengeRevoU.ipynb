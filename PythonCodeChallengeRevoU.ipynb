{
  "nbformat": 4,
  "nbformat_minor": 0,
  "metadata": {
    "colab": {
      "name": "PythonCodeChallengeRevoU.ipynb",
      "provenance": [],
      "collapsed_sections": [],
      "authorship_tag": "ABX9TyPyqcaKgJ1paicBxNwgM3gw",
      "include_colab_link": true
    },
    "kernelspec": {
      "name": "python3",
      "display_name": "Python 3"
    },
    "language_info": {
      "name": "python"
    }
  },
  "cells": [
    {
      "cell_type": "markdown",
      "metadata": {
        "id": "view-in-github",
        "colab_type": "text"
      },
      "source": [
        "<a href=\"https://colab.research.google.com/github/RachmaAyudyaw/tes/blob/master/PythonCodeChallengeRevoU.ipynb\" target=\"_parent\"><img src=\"https://colab.research.google.com/assets/colab-badge.svg\" alt=\"Open In Colab\"/></a>"
      ]
    },
    {
      "cell_type": "code",
      "metadata": {
        "id": "RaFwNc2gcR0u"
      },
      "source": [
        "product=[\"Apple\",\"Orange\",100,\"Grape\",120.33,\"Cherry\",13.00,\"Pear\",500,\"Melon\",\"Strawberry\"]"
      ],
      "execution_count": null,
      "outputs": []
    },
    {
      "cell_type": "code",
      "metadata": {
        "id": "THSoOOVofZN2"
      },
      "source": [
        "listNumbers=[]\n",
        "listStrings=[]\n",
        "def cekNumbersStrings(product):\n",
        "  for item in product:\n",
        "    if (type(item)==int) | (type(item)==float):\n",
        "      listNumbers.append(item)\n",
        "    else:\n",
        "      listStrings.append(item)\n",
        "\n",
        "cekNumbersStrings(product)"
      ],
      "execution_count": null,
      "outputs": []
    },
    {
      "cell_type": "code",
      "metadata": {
        "colab": {
          "base_uri": "https://localhost:8080/"
        },
        "id": "qGvX0tH9kUKz",
        "outputId": "35f180ed-8105-4b42-9a56-9013eaa1a5c2"
      },
      "source": [
        "print(listNumbers)\n",
        "print(listStrings)"
      ],
      "execution_count": null,
      "outputs": [
        {
          "output_type": "stream",
          "name": "stdout",
          "text": [
            "[100, 120.33, 13.0, 500]\n",
            "['Apple', 'Orange', 'Grape', 'Cherry', 'Pear', 'Melon', 'Strawberry']\n"
          ]
        }
      ]
    },
    {
      "cell_type": "code",
      "metadata": {
        "colab": {
          "base_uri": "https://localhost:8080/"
        },
        "id": "frMliWgWk2Yr",
        "outputId": "8b825d9c-5ff9-4cce-e39f-a9bdfa5393d5"
      },
      "source": [
        "listNumbers.sort()\n",
        "print(listNumbers)"
      ],
      "execution_count": null,
      "outputs": [
        {
          "output_type": "stream",
          "name": "stdout",
          "text": [
            "[13.0, 100, 120.33, 500]\n"
          ]
        }
      ]
    },
    {
      "cell_type": "code",
      "metadata": {
        "colab": {
          "base_uri": "https://localhost:8080/"
        },
        "id": "M7BncB6Klsx6",
        "outputId": "c74b7fcd-32f0-4539-9ab4-ee0cb570563c"
      },
      "source": [
        "listNumbers.sort(reverse=True)\n",
        "print(listNumbers)"
      ],
      "execution_count": null,
      "outputs": [
        {
          "output_type": "stream",
          "name": "stdout",
          "text": [
            "[500, 120.33, 100, 13.0]\n"
          ]
        }
      ]
    },
    {
      "cell_type": "code",
      "metadata": {
        "colab": {
          "base_uri": "https://localhost:8080/"
        },
        "id": "fMe36gXBly6L",
        "outputId": "d027bf49-c2bf-4e3c-dd28-2f22d0a39a55"
      },
      "source": [
        "listStrings.sort()\n",
        "print(listStrings)"
      ],
      "execution_count": null,
      "outputs": [
        {
          "output_type": "stream",
          "name": "stdout",
          "text": [
            "['Apple', 'Cherry', 'Grape', 'Melon', 'Orange', 'Pear', 'Strawberry']\n"
          ]
        }
      ]
    },
    {
      "cell_type": "code",
      "metadata": {
        "colab": {
          "base_uri": "https://localhost:8080/"
        },
        "id": "_xmGfJY5l3dW",
        "outputId": "eaef8b58-6d45-48ea-9101-f5ef8fbb6a77"
      },
      "source": [
        "listStrings.sort(reverse=True)\n",
        "print(listStrings)"
      ],
      "execution_count": null,
      "outputs": [
        {
          "output_type": "stream",
          "name": "stdout",
          "text": [
            "['Strawberry', 'Pear', 'Orange', 'Melon', 'Grape', 'Cherry', 'Apple']\n"
          ]
        }
      ]
    }
  ]
}